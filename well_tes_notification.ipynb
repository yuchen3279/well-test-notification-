def TH_WT(well_test_writeback):
    df = well_test_writeback
    df = df[['asset_id','well','status','date_from', 'date_to', 'prepared_by', 'prep_date' ]]
    df = df.loc[(df.asset_id == 'Thunder Horse') & (df.status != 'proposed')]
    #selelect the new well test in the table,start with 2019/ 2018 .....  
    df['starts'] = map(lambda x: x.startswith('2'), df['prep_date'])
    df = df.loc[df['starts'] == True]
    #df = df[['asset_id','well','status','date_from', 'date_to', 'prepared_by', 'prep_date', 'starts' == 'true' ]]
    #df = df.sort_values(by='prep_date', ascending = False)
    #change the datetype for 
    #and remove the timezone in the, sothat can calculate the diff  
    df['prep_date_new'] = pd.to_datetime(df['prep_date'])
    df['prep_date_new'] = df['prep_date_new'].dt.tz_localize(None)
    
    
    #check the diff time from now to the well test prep
    currenttime = dt.datetime.now() 
    df['diff'] = currenttime - df['prep_date_new']
    #set the test period, based on schedule 12hours 
    df['schedule'] = dt.timedelta(hours = 12)
     
    #set back the date type sothat the palantir can recoginize 
    df['diff_int'] = df['diff'].astype(int)
    df['schedule_int'] = df['schedule'].astype(int) 

    #pick the well test that happened in the schedule
    df = df.loc[df.diff_int <= df.schedule_int]
    df = df.sort_values(by=['prep_date_new'], ascending = False)
    #but palantir cannot save dataset to an empty 


    #df['diff_interger'] = df['diff'].astype(int) 
    #df = df.loc[df.diff <= dt.timedelta(hours = 120)]
    #df = df.sort_values(by=['prep_date_new'], ascending = False)
    #df = df.loc[( df.prep_date_new > lasttime) & ( df.prep_date_new <= currenttime)] 
    #df = df.prep_date_new.astype(str)
    #lasttime = currenttime - dt.timedelta (hours = 12)    
    return df
